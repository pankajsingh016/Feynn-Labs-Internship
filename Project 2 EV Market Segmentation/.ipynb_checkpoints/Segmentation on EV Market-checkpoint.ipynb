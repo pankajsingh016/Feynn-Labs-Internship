{
 "cells": [
  {
   "cell_type": "markdown",
   "id": "9a51ea76-2249-4b72-b18b-fd8a47128e70",
   "metadata": {},
   "source": [
    "For next your task, you will be working on performing Segmentation on EV Market based on the datasets shared. \n",
    "\n",
    "Each member here has to perform their own Segmentation by selecting datasets. Each member select 1 dataset.\n",
    "\n",
    "After selecting the dataset, kindly mention in this group, which dataset you have selected to work\n",
    "\n",
    "After performing the segmentation, kindly prepare a report based on the following questions (omit the questions from the report):\n",
    "\n",
    "1. Explain how and which ML model (algorithm) helped you in 2nd Project?\n",
    "2. Elaborate on the final conclusion & insights gained from the research/analysis work.\n",
    "3. How will you improve upon the Market Segmentation Project given additional time & some budget to purchase data? (in terms of Datasets collection - name what columns points you will search for & what additional ML models you would like to try)\n",
    "4. What is the estimated  Market Size for your Market Domain (non-segmented) in Numbers?\n",
    "5. Name top 4 Variables/features which can be used to create most optimal Market Segments for your Market Domain\n",
    "\n",
    "Sample Segmentation Report on EV Market\n",
    "\n",
    "https://github.com/Rohit-Rannavre/Feynn-Labs-Internship-2022 \n",
    "\n",
    "Submit the Report by 17th  Oct (performed individually) in Discord #report-submission-r2\n",
    "\n",
    "If you have any query, don't hesitate to ask\n",
    "\n",
    "Sample Segmentation Report on EV Market\n",
    "\n",
    "https://github.com/Rohit-Rannavre/Feynn-Labs-Internship-2022 \n",
    "\n",
    "Each member here has to perform their own Segmentation by selecting datasets. Each member select 1 dataset.\n",
    "\n",
    "After selecting the dataset, kindly mention in this group, which dataset you have selected to work on"
   ]
  },
  {
   "cell_type": "code",
   "execution_count": 1,
   "id": "3963adde-3d40-4105-b12c-95ffccf50051",
   "metadata": {},
   "outputs": [],
   "source": [
    "import pandas as pd\n",
    "import numpy as np\n",
    "%matplotlib inline"
   ]
  },
  {
   "cell_type": "markdown",
   "id": "33032e21-4d65-4acf-a68d-d986345086c3",
   "metadata": {},
   "source": [
    "### European EV Market Dataset"
   ]
  },
  {
   "cell_type": "code",
   "execution_count": 2,
   "id": "99185404-e113-40f5-be31-94b61740ba78",
   "metadata": {},
   "outputs": [],
   "source": [
    "df_euro_ev = pd.read_csv('./Electric Vechile Dataset Smaller/ElectricCarData_Clean.csv')"
   ]
  },
  {
   "cell_type": "markdown",
   "id": "075feec1-7dbe-4480-9b6a-966897819f0b",
   "metadata": {},
   "source": [
    "### European EV Sales"
   ]
  },
  {
   "cell_type": "code",
   "execution_count": 3,
   "id": "801cf2f1-b510-4cce-9a12-0db0a4472de2",
   "metadata": {},
   "outputs": [],
   "source": [
    "df_ev_sales = pd.read_excel('./Open Data Government of India/Ev Sales.xlsx')"
   ]
  },
  {
   "cell_type": "markdown",
   "id": "f8739b7d-0f5d-40e2-a1fd-5ba61d91b55c",
   "metadata": {},
   "source": [
    "### EV India Electric Market Dataset"
   ]
  },
  {
   "cell_type": "code",
   "execution_count": 4,
   "id": "c061e8e0-0bbe-47be-85bf-c89a314024f3",
   "metadata": {},
   "outputs": [],
   "source": [
    "df_india_ev = pd.read_csv('./Kaggle/EVIndia.csv')"
   ]
  },
  {
   "cell_type": "markdown",
   "id": "0cff4150-0791-496c-ba79-8f28db4a0243",
   "metadata": {},
   "source": [
    "#### Adoption of Electric Vechiles by State in India (Open Data)"
   ]
  },
  {
   "cell_type": "code",
   "execution_count": 5,
   "id": "362fcf4f-6f49-4964-9424-d3d974599669",
   "metadata": {},
   "outputs": [],
   "source": [
    "df_open_data_india = pd.read_excel('./Open Data Government of India/EV_Sales_Data_set.xlsx')"
   ]
  },
  {
   "cell_type": "markdown",
   "id": "52835463-0665-47cf-85ff-c3d1bf3681f6",
   "metadata": {},
   "source": [
    "##### Analysing the Datasets"
   ]
  },
  {
   "cell_type": "code",
   "execution_count": 6,
   "id": "63774f8f-4bcf-42b1-b87f-7faa6738da2f",
   "metadata": {},
   "outputs": [
    {
     "name": "stdout",
     "output_type": "stream",
     "text": [
      "European Ev Market Dataset (103, 14)\n",
      "EV European Sales Dataset (74, 6)\n",
      "EV India Market Dataset (12, 10)\n",
      "Open Govenment Dataset EV (35, 4)\n"
     ]
    }
   ],
   "source": [
    "#shape of different dataset\n",
    "print(\"European Ev Market Dataset {}\".format(df_euro_ev.shape))\n",
    "print(\"EV European Sales Dataset {}\".format(df_ev_sales.shape))\n",
    "print(\"EV India Market Dataset {}\".format(df_india_ev.shape))\n",
    "print(\"Open Govenment Dataset EV {}\".format(df_open_data_india.shape))"
   ]
  },
  {
   "cell_type": "markdown",
   "id": "a84bf94a-edd1-4b61-a018-25f90718d6ca",
   "metadata": {},
   "source": [
    "### Preprocessing Datasets\n",
    "##### 1. European Ev Market Dataset"
   ]
  },
  {
   "cell_type": "code",
   "execution_count": 7,
   "id": "0027ae9c-568c-4d38-8c8e-593e8d0b580f",
   "metadata": {},
   "outputs": [
    {
     "data": {
      "text/html": [
       "<div>\n",
       "<style scoped>\n",
       "    .dataframe tbody tr th:only-of-type {\n",
       "        vertical-align: middle;\n",
       "    }\n",
       "\n",
       "    .dataframe tbody tr th {\n",
       "        vertical-align: top;\n",
       "    }\n",
       "\n",
       "    .dataframe thead th {\n",
       "        text-align: right;\n",
       "    }\n",
       "</style>\n",
       "<table border=\"1\" class=\"dataframe\">\n",
       "  <thead>\n",
       "    <tr style=\"text-align: right;\">\n",
       "      <th></th>\n",
       "      <th>0</th>\n",
       "      <th>1</th>\n",
       "    </tr>\n",
       "  </thead>\n",
       "  <tbody>\n",
       "    <tr>\n",
       "      <th>Brand</th>\n",
       "      <td>Tesla</td>\n",
       "      <td>Volkswagen</td>\n",
       "    </tr>\n",
       "    <tr>\n",
       "      <th>Model</th>\n",
       "      <td>Model 3 Long Range Dual Motor</td>\n",
       "      <td>ID.3 Pure</td>\n",
       "    </tr>\n",
       "    <tr>\n",
       "      <th>AccelSec</th>\n",
       "      <td>4.6</td>\n",
       "      <td>10.0</td>\n",
       "    </tr>\n",
       "    <tr>\n",
       "      <th>TopSpeed_KmH</th>\n",
       "      <td>233</td>\n",
       "      <td>160</td>\n",
       "    </tr>\n",
       "    <tr>\n",
       "      <th>Range_Km</th>\n",
       "      <td>450</td>\n",
       "      <td>270</td>\n",
       "    </tr>\n",
       "    <tr>\n",
       "      <th>Efficiency_WhKm</th>\n",
       "      <td>161</td>\n",
       "      <td>167</td>\n",
       "    </tr>\n",
       "    <tr>\n",
       "      <th>FastCharge_KmH</th>\n",
       "      <td>940</td>\n",
       "      <td>250</td>\n",
       "    </tr>\n",
       "    <tr>\n",
       "      <th>RapidCharge</th>\n",
       "      <td>Yes</td>\n",
       "      <td>Yes</td>\n",
       "    </tr>\n",
       "    <tr>\n",
       "      <th>PowerTrain</th>\n",
       "      <td>AWD</td>\n",
       "      <td>RWD</td>\n",
       "    </tr>\n",
       "    <tr>\n",
       "      <th>PlugType</th>\n",
       "      <td>Type 2 CCS</td>\n",
       "      <td>Type 2 CCS</td>\n",
       "    </tr>\n",
       "    <tr>\n",
       "      <th>BodyStyle</th>\n",
       "      <td>Sedan</td>\n",
       "      <td>Hatchback</td>\n",
       "    </tr>\n",
       "    <tr>\n",
       "      <th>Segment</th>\n",
       "      <td>D</td>\n",
       "      <td>C</td>\n",
       "    </tr>\n",
       "    <tr>\n",
       "      <th>Seats</th>\n",
       "      <td>5</td>\n",
       "      <td>5</td>\n",
       "    </tr>\n",
       "    <tr>\n",
       "      <th>PriceEuro</th>\n",
       "      <td>55480</td>\n",
       "      <td>30000</td>\n",
       "    </tr>\n",
       "  </tbody>\n",
       "</table>\n",
       "</div>"
      ],
      "text/plain": [
       "                                             0            1\n",
       "Brand                                   Tesla   Volkswagen \n",
       "Model            Model 3 Long Range Dual Motor    ID.3 Pure\n",
       "AccelSec                                   4.6         10.0\n",
       "TopSpeed_KmH                               233          160\n",
       "Range_Km                                   450          270\n",
       "Efficiency_WhKm                            161          167\n",
       "FastCharge_KmH                             940          250\n",
       "RapidCharge                                Yes          Yes\n",
       "PowerTrain                                 AWD          RWD\n",
       "PlugType                            Type 2 CCS   Type 2 CCS\n",
       "BodyStyle                                Sedan    Hatchback\n",
       "Segment                                      D            C\n",
       "Seats                                        5            5\n",
       "PriceEuro                                55480        30000"
      ]
     },
     "execution_count": 7,
     "metadata": {},
     "output_type": "execute_result"
    }
   ],
   "source": [
    "df_euro_ev.head(2).T"
   ]
  },
  {
   "cell_type": "code",
   "execution_count": 8,
   "id": "438efe55-d275-44a3-af8b-18edafb94113",
   "metadata": {},
   "outputs": [
    {
     "name": "stdout",
     "output_type": "stream",
     "text": [
      "<class 'pandas.core.frame.DataFrame'>\n",
      "RangeIndex: 103 entries, 0 to 102\n",
      "Data columns (total 14 columns):\n",
      " #   Column           Non-Null Count  Dtype  \n",
      "---  ------           --------------  -----  \n",
      " 0   Brand            103 non-null    object \n",
      " 1   Model            103 non-null    object \n",
      " 2   AccelSec         103 non-null    float64\n",
      " 3   TopSpeed_KmH     103 non-null    int64  \n",
      " 4   Range_Km         103 non-null    int64  \n",
      " 5   Efficiency_WhKm  103 non-null    int64  \n",
      " 6   FastCharge_KmH   103 non-null    object \n",
      " 7   RapidCharge      103 non-null    object \n",
      " 8   PowerTrain       103 non-null    object \n",
      " 9   PlugType         103 non-null    object \n",
      " 10  BodyStyle        103 non-null    object \n",
      " 11  Segment          103 non-null    object \n",
      " 12  Seats            103 non-null    int64  \n",
      " 13  PriceEuro        103 non-null    int64  \n",
      "dtypes: float64(1), int64(5), object(8)\n",
      "memory usage: 11.4+ KB\n"
     ]
    }
   ],
   "source": [
    "df_euro_ev.info()"
   ]
  },
  {
   "cell_type": "code",
   "execution_count": 9,
   "id": "b8805b86-759b-447e-900d-6c80317d093c",
   "metadata": {},
   "outputs": [
    {
     "data": {
      "text/plain": [
       "array(['940', '250', '620', '560', '190', '220', '420', '650', '540',\n",
       "       '440', '230', '380', '210', '590', '780', '170', '260', '930',\n",
       "       '850', '910', '490', '470', '270', '450', '350', '710', '240',\n",
       "       '390', '570', '610', '340', '730', '920', '-', '550', '900', '520',\n",
       "       '430', '890', '410', '770', '460', '360', '810', '480', '290',\n",
       "       '330', '740', '510', '320', '500'], dtype=object)"
      ]
     },
     "execution_count": 9,
     "metadata": {},
     "output_type": "execute_result"
    }
   ],
   "source": [
    "# We can see this data is as object but it consists of multiple numerical values to lets change it into Integer\n",
    "# step 1 replate '-' values with '0'\n",
    "# Step 2 convert the data into INT values\n",
    "df_euro_ev['FastCharge_KmH'].unique()"
   ]
  },
  {
   "cell_type": "code",
   "execution_count": 10,
   "id": "94191484-d24c-4f11-933f-bbf30bceb07b",
   "metadata": {},
   "outputs": [],
   "source": [
    "df_euro_ev['FastCharge_KmH'] = df_euro_ev['FastCharge_KmH'].replace('-','0')"
   ]
  },
  {
   "cell_type": "code",
   "execution_count": 11,
   "id": "2ebde6ad-98d6-4221-ac56-c63c35d3b06a",
   "metadata": {},
   "outputs": [
    {
     "data": {
      "text/plain": [
       "array(['Yes', 'No'], dtype=object)"
      ]
     },
     "execution_count": 11,
     "metadata": {},
     "output_type": "execute_result"
    }
   ],
   "source": [
    "df_euro_ev['RapidCharge'].unique()"
   ]
  },
  {
   "cell_type": "code",
   "execution_count": 12,
   "id": "93ba017e-26af-4aef-8c82-ee8e64c1dc61",
   "metadata": {},
   "outputs": [],
   "source": [
    "df_euro_ev['RapidCharge'] = df_euro_ev['RapidCharge'].replace({'Yes':'1','No':'0'})"
   ]
  },
  {
   "cell_type": "code",
   "execution_count": 13,
   "id": "d1ca5f73-5d52-4bce-815c-b183010aef94",
   "metadata": {},
   "outputs": [
    {
     "data": {
      "text/plain": [
       "array(['AWD', 'RWD', 'FWD'], dtype=object)"
      ]
     },
     "execution_count": 13,
     "metadata": {},
     "output_type": "execute_result"
    }
   ],
   "source": [
    "df_euro_ev['PowerTrain'].unique()"
   ]
  },
  {
   "cell_type": "code",
   "execution_count": 14,
   "id": "f750930a-5b19-4469-9da3-1d06734d0074",
   "metadata": {},
   "outputs": [
    {
     "data": {
      "text/plain": [
       "array(['Type 2 CCS', 'Type 2 CHAdeMO', 'Type 2', 'Type 1 CHAdeMO'],\n",
       "      dtype=object)"
      ]
     },
     "execution_count": 14,
     "metadata": {},
     "output_type": "execute_result"
    }
   ],
   "source": [
    "df_euro_ev['PlugType'].unique()"
   ]
  },
  {
   "cell_type": "code",
   "execution_count": 15,
   "id": "29aabee2-fd44-40b9-9631-996565f45f06",
   "metadata": {},
   "outputs": [
    {
     "data": {
      "text/plain": [
       "array(['Sedan', 'Hatchback', 'Liftback', 'SUV', 'Pickup', 'MPV', 'Cabrio',\n",
       "       'SPV', 'Station'], dtype=object)"
      ]
     },
     "execution_count": 15,
     "metadata": {},
     "output_type": "execute_result"
    }
   ],
   "source": [
    "df_euro_ev['BodyStyle'].unique()"
   ]
  },
  {
   "cell_type": "code",
   "execution_count": 16,
   "id": "4d407df6-4e03-4203-8249-983b3150848c",
   "metadata": {},
   "outputs": [
    {
     "data": {
      "text/plain": [
       "array(['D', 'C', 'B', 'F', 'A', 'E', 'N', 'S'], dtype=object)"
      ]
     },
     "execution_count": 16,
     "metadata": {},
     "output_type": "execute_result"
    }
   ],
   "source": [
    "df_euro_ev['Segment'].unique()"
   ]
  },
  {
   "cell_type": "code",
   "execution_count": 17,
   "id": "bfe3d039-fa17-49c4-853c-a59f31702df4",
   "metadata": {},
   "outputs": [
    {
     "data": {
      "text/plain": [
       "array([5, 4, 7, 6, 2], dtype=int64)"
      ]
     },
     "execution_count": 17,
     "metadata": {},
     "output_type": "execute_result"
    }
   ],
   "source": [
    "df_euro_ev['Seats'].unique()"
   ]
  },
  {
   "cell_type": "code",
   "execution_count": 18,
   "id": "9a8a4629-037c-459b-b08f-46388292c970",
   "metadata": {},
   "outputs": [],
   "source": [
    "df_euro_ev = df_euro_ev.astype({'FastCharge_KmH':'int64', 'RapidCharge':'int64'})"
   ]
  },
  {
   "cell_type": "markdown",
   "id": "0b38bd69-a47d-45ff-ab62-5fc2a8acc248",
   "metadata": {},
   "source": [
    "### Pre-processing dataset\n",
    "##### 2. EV Sales Europe"
   ]
  },
  {
   "cell_type": "code",
   "execution_count": 19,
   "id": "bf2f009f-f9af-492d-b20f-57f2f0ccffef",
   "metadata": {},
   "outputs": [
    {
     "data": {
      "text/html": [
       "<div>\n",
       "<style scoped>\n",
       "    .dataframe tbody tr th:only-of-type {\n",
       "        vertical-align: middle;\n",
       "    }\n",
       "\n",
       "    .dataframe tbody tr th {\n",
       "        vertical-align: top;\n",
       "    }\n",
       "\n",
       "    .dataframe thead th {\n",
       "        text-align: right;\n",
       "    }\n",
       "</style>\n",
       "<table border=\"1\" class=\"dataframe\">\n",
       "  <thead>\n",
       "    <tr style=\"text-align: right;\">\n",
       "      <th></th>\n",
       "      <th>YEAR</th>\n",
       "      <th>2 W</th>\n",
       "      <th>3 W</th>\n",
       "      <th>4 W</th>\n",
       "      <th>BUS</th>\n",
       "      <th>TOTAL</th>\n",
       "    </tr>\n",
       "  </thead>\n",
       "  <tbody>\n",
       "    <tr>\n",
       "      <th>0</th>\n",
       "      <td>2017-04-01</td>\n",
       "      <td>96</td>\n",
       "      <td>4748</td>\n",
       "      <td>198</td>\n",
       "      <td>0</td>\n",
       "      <td>5042</td>\n",
       "    </tr>\n",
       "    <tr>\n",
       "      <th>1</th>\n",
       "      <td>2017-05-01</td>\n",
       "      <td>91</td>\n",
       "      <td>6720</td>\n",
       "      <td>215</td>\n",
       "      <td>2</td>\n",
       "      <td>7028</td>\n",
       "    </tr>\n",
       "  </tbody>\n",
       "</table>\n",
       "</div>"
      ],
      "text/plain": [
       "        YEAR  2 W   3 W  4 W  BUS  TOTAL\n",
       "0 2017-04-01   96  4748  198    0   5042\n",
       "1 2017-05-01   91  6720  215    2   7028"
      ]
     },
     "execution_count": 19,
     "metadata": {},
     "output_type": "execute_result"
    }
   ],
   "source": [
    "df_ev_sales.head(2)"
   ]
  },
  {
   "cell_type": "code",
   "execution_count": 20,
   "id": "830d01d8-be15-4e44-95cb-97e34b7d5e72",
   "metadata": {},
   "outputs": [
    {
     "name": "stdout",
     "output_type": "stream",
     "text": [
      "<class 'pandas.core.frame.DataFrame'>\n",
      "RangeIndex: 74 entries, 0 to 73\n",
      "Data columns (total 6 columns):\n",
      " #   Column  Non-Null Count  Dtype         \n",
      "---  ------  --------------  -----         \n",
      " 0   YEAR    74 non-null     datetime64[ns]\n",
      " 1   2 W     74 non-null     int64         \n",
      " 2   3 W     74 non-null     int64         \n",
      " 3   4 W     74 non-null     int64         \n",
      " 4   BUS     74 non-null     int64         \n",
      " 5   TOTAL   74 non-null     int64         \n",
      "dtypes: datetime64[ns](1), int64(5)\n",
      "memory usage: 3.6 KB\n"
     ]
    }
   ],
   "source": [
    "df_ev_sales.info()"
   ]
  },
  {
   "cell_type": "markdown",
   "id": "41304182-8c52-48dc-8f45-6e1192714873",
   "metadata": {},
   "source": [
    "### EV India Market Dataset\n",
    "##### Pre-processing"
   ]
  },
  {
   "cell_type": "code",
   "execution_count": 21,
   "id": "9c1edb9c-3456-4f9d-a80a-970dd2ec70c5",
   "metadata": {},
   "outputs": [
    {
     "data": {
      "text/html": [
       "<div>\n",
       "<style scoped>\n",
       "    .dataframe tbody tr th:only-of-type {\n",
       "        vertical-align: middle;\n",
       "    }\n",
       "\n",
       "    .dataframe tbody tr th {\n",
       "        vertical-align: top;\n",
       "    }\n",
       "\n",
       "    .dataframe thead th {\n",
       "        text-align: right;\n",
       "    }\n",
       "</style>\n",
       "<table border=\"1\" class=\"dataframe\">\n",
       "  <thead>\n",
       "    <tr style=\"text-align: right;\">\n",
       "      <th></th>\n",
       "      <th>Car</th>\n",
       "      <th>Style</th>\n",
       "      <th>Range</th>\n",
       "      <th>Transmission</th>\n",
       "      <th>VehicleType</th>\n",
       "      <th>PriceRange</th>\n",
       "      <th>Capacity</th>\n",
       "      <th>BootSpace</th>\n",
       "      <th>BaseModel</th>\n",
       "      <th>TopModel</th>\n",
       "    </tr>\n",
       "  </thead>\n",
       "  <tbody>\n",
       "    <tr>\n",
       "      <th>0</th>\n",
       "      <td>Tata Nexon EV</td>\n",
       "      <td>Compact SUV</td>\n",
       "      <td>312 Km/Full Charge</td>\n",
       "      <td>Automatic</td>\n",
       "      <td>Electric</td>\n",
       "      <td>₹ 13.99 - 17.4 L</td>\n",
       "      <td>5 Seater</td>\n",
       "      <td>350 L</td>\n",
       "      <td>XM</td>\n",
       "      <td>Dark XZ Plus LUX</td>\n",
       "    </tr>\n",
       "    <tr>\n",
       "      <th>1</th>\n",
       "      <td>Tata Tigor EV</td>\n",
       "      <td>Subcompact Sedan</td>\n",
       "      <td>306 Km/Full Charge</td>\n",
       "      <td>Automatic</td>\n",
       "      <td>Electric</td>\n",
       "      <td>₹ 12.49 - 13.64 L</td>\n",
       "      <td>5 Seater</td>\n",
       "      <td>316 L</td>\n",
       "      <td>XE</td>\n",
       "      <td>XZ Plus Dual Tone</td>\n",
       "    </tr>\n",
       "  </tbody>\n",
       "</table>\n",
       "</div>"
      ],
      "text/plain": [
       "             Car             Style               Range Transmission  \\\n",
       "0  Tata Nexon EV       Compact SUV  312 Km/Full Charge    Automatic   \n",
       "1  Tata Tigor EV  Subcompact Sedan  306 Km/Full Charge    Automatic   \n",
       "\n",
       "  VehicleType         PriceRange   Capacity BootSpace BaseModel  \\\n",
       "0    Electric   ₹ 13.99 - 17.4 L  5 Seater      350 L       XM    \n",
       "1    Electric  ₹ 12.49 - 13.64 L  5 Seater      316 L       XE    \n",
       "\n",
       "             TopModel  \n",
       "0   Dark XZ Plus LUX   \n",
       "1  XZ Plus Dual Tone   "
      ]
     },
     "execution_count": 21,
     "metadata": {},
     "output_type": "execute_result"
    }
   ],
   "source": [
    "df_india_ev.head(2)"
   ]
  },
  {
   "cell_type": "code",
   "execution_count": 22,
   "id": "0ad54930-7b44-46f1-bb8f-f4d7d5fc7c5b",
   "metadata": {},
   "outputs": [
    {
     "name": "stdout",
     "output_type": "stream",
     "text": [
      "<class 'pandas.core.frame.DataFrame'>\n",
      "RangeIndex: 12 entries, 0 to 11\n",
      "Data columns (total 10 columns):\n",
      " #   Column        Non-Null Count  Dtype \n",
      "---  ------        --------------  ----- \n",
      " 0   Car           12 non-null     object\n",
      " 1   Style         12 non-null     object\n",
      " 2   Range         12 non-null     object\n",
      " 3   Transmission  12 non-null     object\n",
      " 4   VehicleType   12 non-null     object\n",
      " 5   PriceRange    12 non-null     object\n",
      " 6   Capacity      12 non-null     object\n",
      " 7   BootSpace     12 non-null     object\n",
      " 8   BaseModel     12 non-null     object\n",
      " 9   TopModel      12 non-null     object\n",
      "dtypes: object(10)\n",
      "memory usage: 1.1+ KB\n"
     ]
    }
   ],
   "source": [
    "df_india_ev.info()"
   ]
  },
  {
   "cell_type": "code",
   "execution_count": 23,
   "id": "1576823f-5696-4ab0-b577-fa1c378ec678",
   "metadata": {},
   "outputs": [],
   "source": [
    "df_india_ev['Range'] = df_india_ev['Range'].replace('na','0')"
   ]
  },
  {
   "cell_type": "code",
   "execution_count": 24,
   "id": "676972ef-c2f9-472c-9f56-9556c89c7111",
   "metadata": {},
   "outputs": [],
   "source": [
    "df_india_ev['Range'] = df_india_ev['Range'].str.split(' ')"
   ]
  },
  {
   "cell_type": "code",
   "execution_count": 25,
   "id": "63d905b6-08a8-411a-a9f5-04a0ccfd010d",
   "metadata": {},
   "outputs": [
    {
     "name": "stderr",
     "output_type": "stream",
     "text": [
      "C:\\Users\\pankr\\AppData\\Local\\Temp\\ipykernel_21588\\3201612402.py:2: FutureWarning: ChainedAssignmentError: behaviour will change in pandas 3.0!\n",
      "You are setting values through chained assignment. Currently this works in certain cases, but when using Copy-on-Write (which will become the default behaviour in pandas 3.0) this will never work to update the original DataFrame or Series, because the intermediate object on which we are setting values will behave as a copy.\n",
      "A typical example is when you are setting values in a column of a DataFrame, like:\n",
      "\n",
      "df[\"col\"][row_indexer] = value\n",
      "\n",
      "Use `df.loc[row_indexer, \"col\"] = values` instead, to perform the assignment in a single step and ensure this keeps updating the original `df`.\n",
      "\n",
      "See the caveats in the documentation: https://pandas.pydata.org/pandas-docs/stable/user_guide/indexing.html#returning-a-view-versus-a-copy\n",
      "\n",
      "  df_india_ev['Range'][i] = int(df_india_ev['Range'][i][0])\n",
      "C:\\Users\\pankr\\AppData\\Local\\Temp\\ipykernel_21588\\3201612402.py:2: FutureWarning: ChainedAssignmentError: behaviour will change in pandas 3.0!\n",
      "You are setting values through chained assignment. Currently this works in certain cases, but when using Copy-on-Write (which will become the default behaviour in pandas 3.0) this will never work to update the original DataFrame or Series, because the intermediate object on which we are setting values will behave as a copy.\n",
      "A typical example is when you are setting values in a column of a DataFrame, like:\n",
      "\n",
      "df[\"col\"][row_indexer] = value\n",
      "\n",
      "Use `df.loc[row_indexer, \"col\"] = values` instead, to perform the assignment in a single step and ensure this keeps updating the original `df`.\n",
      "\n",
      "See the caveats in the documentation: https://pandas.pydata.org/pandas-docs/stable/user_guide/indexing.html#returning-a-view-versus-a-copy\n",
      "\n",
      "  df_india_ev['Range'][i] = int(df_india_ev['Range'][i][0])\n",
      "C:\\Users\\pankr\\AppData\\Local\\Temp\\ipykernel_21588\\3201612402.py:2: FutureWarning: ChainedAssignmentError: behaviour will change in pandas 3.0!\n",
      "You are setting values through chained assignment. Currently this works in certain cases, but when using Copy-on-Write (which will become the default behaviour in pandas 3.0) this will never work to update the original DataFrame or Series, because the intermediate object on which we are setting values will behave as a copy.\n",
      "A typical example is when you are setting values in a column of a DataFrame, like:\n",
      "\n",
      "df[\"col\"][row_indexer] = value\n",
      "\n",
      "Use `df.loc[row_indexer, \"col\"] = values` instead, to perform the assignment in a single step and ensure this keeps updating the original `df`.\n",
      "\n",
      "See the caveats in the documentation: https://pandas.pydata.org/pandas-docs/stable/user_guide/indexing.html#returning-a-view-versus-a-copy\n",
      "\n",
      "  df_india_ev['Range'][i] = int(df_india_ev['Range'][i][0])\n",
      "C:\\Users\\pankr\\AppData\\Local\\Temp\\ipykernel_21588\\3201612402.py:2: FutureWarning: ChainedAssignmentError: behaviour will change in pandas 3.0!\n",
      "You are setting values through chained assignment. Currently this works in certain cases, but when using Copy-on-Write (which will become the default behaviour in pandas 3.0) this will never work to update the original DataFrame or Series, because the intermediate object on which we are setting values will behave as a copy.\n",
      "A typical example is when you are setting values in a column of a DataFrame, like:\n",
      "\n",
      "df[\"col\"][row_indexer] = value\n",
      "\n",
      "Use `df.loc[row_indexer, \"col\"] = values` instead, to perform the assignment in a single step and ensure this keeps updating the original `df`.\n",
      "\n",
      "See the caveats in the documentation: https://pandas.pydata.org/pandas-docs/stable/user_guide/indexing.html#returning-a-view-versus-a-copy\n",
      "\n",
      "  df_india_ev['Range'][i] = int(df_india_ev['Range'][i][0])\n",
      "C:\\Users\\pankr\\AppData\\Local\\Temp\\ipykernel_21588\\3201612402.py:2: FutureWarning: ChainedAssignmentError: behaviour will change in pandas 3.0!\n",
      "You are setting values through chained assignment. Currently this works in certain cases, but when using Copy-on-Write (which will become the default behaviour in pandas 3.0) this will never work to update the original DataFrame or Series, because the intermediate object on which we are setting values will behave as a copy.\n",
      "A typical example is when you are setting values in a column of a DataFrame, like:\n",
      "\n",
      "df[\"col\"][row_indexer] = value\n",
      "\n",
      "Use `df.loc[row_indexer, \"col\"] = values` instead, to perform the assignment in a single step and ensure this keeps updating the original `df`.\n",
      "\n",
      "See the caveats in the documentation: https://pandas.pydata.org/pandas-docs/stable/user_guide/indexing.html#returning-a-view-versus-a-copy\n",
      "\n",
      "  df_india_ev['Range'][i] = int(df_india_ev['Range'][i][0])\n",
      "C:\\Users\\pankr\\AppData\\Local\\Temp\\ipykernel_21588\\3201612402.py:2: FutureWarning: ChainedAssignmentError: behaviour will change in pandas 3.0!\n",
      "You are setting values through chained assignment. Currently this works in certain cases, but when using Copy-on-Write (which will become the default behaviour in pandas 3.0) this will never work to update the original DataFrame or Series, because the intermediate object on which we are setting values will behave as a copy.\n",
      "A typical example is when you are setting values in a column of a DataFrame, like:\n",
      "\n",
      "df[\"col\"][row_indexer] = value\n",
      "\n",
      "Use `df.loc[row_indexer, \"col\"] = values` instead, to perform the assignment in a single step and ensure this keeps updating the original `df`.\n",
      "\n",
      "See the caveats in the documentation: https://pandas.pydata.org/pandas-docs/stable/user_guide/indexing.html#returning-a-view-versus-a-copy\n",
      "\n",
      "  df_india_ev['Range'][i] = int(df_india_ev['Range'][i][0])\n",
      "C:\\Users\\pankr\\AppData\\Local\\Temp\\ipykernel_21588\\3201612402.py:2: FutureWarning: ChainedAssignmentError: behaviour will change in pandas 3.0!\n",
      "You are setting values through chained assignment. Currently this works in certain cases, but when using Copy-on-Write (which will become the default behaviour in pandas 3.0) this will never work to update the original DataFrame or Series, because the intermediate object on which we are setting values will behave as a copy.\n",
      "A typical example is when you are setting values in a column of a DataFrame, like:\n",
      "\n",
      "df[\"col\"][row_indexer] = value\n",
      "\n",
      "Use `df.loc[row_indexer, \"col\"] = values` instead, to perform the assignment in a single step and ensure this keeps updating the original `df`.\n",
      "\n",
      "See the caveats in the documentation: https://pandas.pydata.org/pandas-docs/stable/user_guide/indexing.html#returning-a-view-versus-a-copy\n",
      "\n",
      "  df_india_ev['Range'][i] = int(df_india_ev['Range'][i][0])\n",
      "C:\\Users\\pankr\\AppData\\Local\\Temp\\ipykernel_21588\\3201612402.py:2: FutureWarning: ChainedAssignmentError: behaviour will change in pandas 3.0!\n",
      "You are setting values through chained assignment. Currently this works in certain cases, but when using Copy-on-Write (which will become the default behaviour in pandas 3.0) this will never work to update the original DataFrame or Series, because the intermediate object on which we are setting values will behave as a copy.\n",
      "A typical example is when you are setting values in a column of a DataFrame, like:\n",
      "\n",
      "df[\"col\"][row_indexer] = value\n",
      "\n",
      "Use `df.loc[row_indexer, \"col\"] = values` instead, to perform the assignment in a single step and ensure this keeps updating the original `df`.\n",
      "\n",
      "See the caveats in the documentation: https://pandas.pydata.org/pandas-docs/stable/user_guide/indexing.html#returning-a-view-versus-a-copy\n",
      "\n",
      "  df_india_ev['Range'][i] = int(df_india_ev['Range'][i][0])\n",
      "C:\\Users\\pankr\\AppData\\Local\\Temp\\ipykernel_21588\\3201612402.py:2: FutureWarning: ChainedAssignmentError: behaviour will change in pandas 3.0!\n",
      "You are setting values through chained assignment. Currently this works in certain cases, but when using Copy-on-Write (which will become the default behaviour in pandas 3.0) this will never work to update the original DataFrame or Series, because the intermediate object on which we are setting values will behave as a copy.\n",
      "A typical example is when you are setting values in a column of a DataFrame, like:\n",
      "\n",
      "df[\"col\"][row_indexer] = value\n",
      "\n",
      "Use `df.loc[row_indexer, \"col\"] = values` instead, to perform the assignment in a single step and ensure this keeps updating the original `df`.\n",
      "\n",
      "See the caveats in the documentation: https://pandas.pydata.org/pandas-docs/stable/user_guide/indexing.html#returning-a-view-versus-a-copy\n",
      "\n",
      "  df_india_ev['Range'][i] = int(df_india_ev['Range'][i][0])\n",
      "C:\\Users\\pankr\\AppData\\Local\\Temp\\ipykernel_21588\\3201612402.py:2: FutureWarning: ChainedAssignmentError: behaviour will change in pandas 3.0!\n",
      "You are setting values through chained assignment. Currently this works in certain cases, but when using Copy-on-Write (which will become the default behaviour in pandas 3.0) this will never work to update the original DataFrame or Series, because the intermediate object on which we are setting values will behave as a copy.\n",
      "A typical example is when you are setting values in a column of a DataFrame, like:\n",
      "\n",
      "df[\"col\"][row_indexer] = value\n",
      "\n",
      "Use `df.loc[row_indexer, \"col\"] = values` instead, to perform the assignment in a single step and ensure this keeps updating the original `df`.\n",
      "\n",
      "See the caveats in the documentation: https://pandas.pydata.org/pandas-docs/stable/user_guide/indexing.html#returning-a-view-versus-a-copy\n",
      "\n",
      "  df_india_ev['Range'][i] = int(df_india_ev['Range'][i][0])\n",
      "C:\\Users\\pankr\\AppData\\Local\\Temp\\ipykernel_21588\\3201612402.py:2: FutureWarning: ChainedAssignmentError: behaviour will change in pandas 3.0!\n",
      "You are setting values through chained assignment. Currently this works in certain cases, but when using Copy-on-Write (which will become the default behaviour in pandas 3.0) this will never work to update the original DataFrame or Series, because the intermediate object on which we are setting values will behave as a copy.\n",
      "A typical example is when you are setting values in a column of a DataFrame, like:\n",
      "\n",
      "df[\"col\"][row_indexer] = value\n",
      "\n",
      "Use `df.loc[row_indexer, \"col\"] = values` instead, to perform the assignment in a single step and ensure this keeps updating the original `df`.\n",
      "\n",
      "See the caveats in the documentation: https://pandas.pydata.org/pandas-docs/stable/user_guide/indexing.html#returning-a-view-versus-a-copy\n",
      "\n",
      "  df_india_ev['Range'][i] = int(df_india_ev['Range'][i][0])\n",
      "C:\\Users\\pankr\\AppData\\Local\\Temp\\ipykernel_21588\\3201612402.py:2: FutureWarning: ChainedAssignmentError: behaviour will change in pandas 3.0!\n",
      "You are setting values through chained assignment. Currently this works in certain cases, but when using Copy-on-Write (which will become the default behaviour in pandas 3.0) this will never work to update the original DataFrame or Series, because the intermediate object on which we are setting values will behave as a copy.\n",
      "A typical example is when you are setting values in a column of a DataFrame, like:\n",
      "\n",
      "df[\"col\"][row_indexer] = value\n",
      "\n",
      "Use `df.loc[row_indexer, \"col\"] = values` instead, to perform the assignment in a single step and ensure this keeps updating the original `df`.\n",
      "\n",
      "See the caveats in the documentation: https://pandas.pydata.org/pandas-docs/stable/user_guide/indexing.html#returning-a-view-versus-a-copy\n",
      "\n",
      "  df_india_ev['Range'][i] = int(df_india_ev['Range'][i][0])\n"
     ]
    }
   ],
   "source": [
    "for i in range(len(df_india_ev['Range'])):\n",
    "    df_india_ev['Range'][i] = int(df_india_ev['Range'][i][0])"
   ]
  },
  {
   "cell_type": "code",
   "execution_count": 26,
   "id": "fed2e75b-a5d7-47b7-9be2-ba56cac71d01",
   "metadata": {},
   "outputs": [
    {
     "data": {
      "text/plain": [
       "0     312\n",
       "1     306\n",
       "2     437\n",
       "3     419\n",
       "4     452\n",
       "5     470\n",
       "6     388\n",
       "7     415\n",
       "8     471\n",
       "9     425\n",
       "10      0\n",
       "11    400\n",
       "Name: Range, dtype: object"
      ]
     },
     "execution_count": 26,
     "metadata": {},
     "output_type": "execute_result"
    }
   ],
   "source": [
    "df_india_ev['Range']"
   ]
  },
  {
   "cell_type": "code",
   "execution_count": 27,
   "id": "5c07dba8-ba65-4c7b-b74e-e6c0d0fc42b8",
   "metadata": {},
   "outputs": [
    {
     "data": {
      "text/html": [
       "<div>\n",
       "<style scoped>\n",
       "    .dataframe tbody tr th:only-of-type {\n",
       "        vertical-align: middle;\n",
       "    }\n",
       "\n",
       "    .dataframe tbody tr th {\n",
       "        vertical-align: top;\n",
       "    }\n",
       "\n",
       "    .dataframe thead th {\n",
       "        text-align: right;\n",
       "    }\n",
       "</style>\n",
       "<table border=\"1\" class=\"dataframe\">\n",
       "  <thead>\n",
       "    <tr style=\"text-align: right;\">\n",
       "      <th></th>\n",
       "      <th>Car</th>\n",
       "      <th>Style</th>\n",
       "      <th>Range</th>\n",
       "      <th>Transmission</th>\n",
       "      <th>VehicleType</th>\n",
       "      <th>PriceRange</th>\n",
       "      <th>Capacity</th>\n",
       "      <th>BootSpace</th>\n",
       "      <th>BaseModel</th>\n",
       "      <th>TopModel</th>\n",
       "    </tr>\n",
       "  </thead>\n",
       "  <tbody>\n",
       "    <tr>\n",
       "      <th>0</th>\n",
       "      <td>Tata Nexon EV</td>\n",
       "      <td>Compact SUV</td>\n",
       "      <td>312</td>\n",
       "      <td>Automatic</td>\n",
       "      <td>Electric</td>\n",
       "      <td>₹ 13.99 - 17.4 L</td>\n",
       "      <td>5 Seater</td>\n",
       "      <td>350 L</td>\n",
       "      <td>XM</td>\n",
       "      <td>Dark XZ Plus LUX</td>\n",
       "    </tr>\n",
       "    <tr>\n",
       "      <th>1</th>\n",
       "      <td>Tata Tigor EV</td>\n",
       "      <td>Subcompact Sedan</td>\n",
       "      <td>306</td>\n",
       "      <td>Automatic</td>\n",
       "      <td>Electric</td>\n",
       "      <td>₹ 12.49 - 13.64 L</td>\n",
       "      <td>5 Seater</td>\n",
       "      <td>316 L</td>\n",
       "      <td>XE</td>\n",
       "      <td>XZ Plus Dual Tone</td>\n",
       "    </tr>\n",
       "  </tbody>\n",
       "</table>\n",
       "</div>"
      ],
      "text/plain": [
       "             Car             Style Range Transmission VehicleType  \\\n",
       "0  Tata Nexon EV       Compact SUV   312    Automatic    Electric   \n",
       "1  Tata Tigor EV  Subcompact Sedan   306    Automatic    Electric   \n",
       "\n",
       "          PriceRange   Capacity BootSpace BaseModel            TopModel  \n",
       "0   ₹ 13.99 - 17.4 L  5 Seater      350 L       XM    Dark XZ Plus LUX   \n",
       "1  ₹ 12.49 - 13.64 L  5 Seater      316 L       XE   XZ Plus Dual Tone   "
      ]
     },
     "execution_count": 27,
     "metadata": {},
     "output_type": "execute_result"
    }
   ],
   "source": [
    "df_india_ev.head(2)"
   ]
  },
  {
   "cell_type": "code",
   "execution_count": 28,
   "id": "8ee16837-6ebe-48d6-8f00-e61d200eff3f",
   "metadata": {},
   "outputs": [],
   "source": [
    "df_india_ev['BootSpace'] = df_india_ev['BootSpace'].replace('na','0')"
   ]
  },
  {
   "cell_type": "code",
   "execution_count": 29,
   "id": "a7a831f4-b282-4b97-8146-f4f909ebeddb",
   "metadata": {},
   "outputs": [],
   "source": [
    "df_india_ev['BootSpace'] = df_india_ev['BootSpace'].str.split(' ')"
   ]
  },
  {
   "cell_type": "code",
   "execution_count": 30,
   "id": "f4d9bda4-dad5-470a-ab54-7c6ecbc721d1",
   "metadata": {},
   "outputs": [
    {
     "data": {
      "text/plain": [
       "0     [350, L]\n",
       "1     [316, L]\n",
       "2     [350, L]\n",
       "3     [448, L]\n",
       "4          [0]\n",
       "5     [656, L]\n",
       "6     [405, L]\n",
       "7     [580, L]\n",
       "8          [0]\n",
       "9          [0]\n",
       "10         [0]\n",
       "11    [660, L]\n",
       "Name: BootSpace, dtype: object"
      ]
     },
     "execution_count": 30,
     "metadata": {},
     "output_type": "execute_result"
    }
   ],
   "source": [
    "df_india_ev['BootSpace']"
   ]
  },
  {
   "cell_type": "code",
   "execution_count": 31,
   "id": "f2ded921-e48e-4d55-ab4f-7ffaec30d1d7",
   "metadata": {},
   "outputs": [],
   "source": [
    "for i in range(len(df_india_ev['BootSpace'])):\n",
    "    df_india_ev['BootSpace'][i] = int(df_india_ev['BootSpace'][i][0])"
   ]
  },
  {
   "cell_type": "code",
   "execution_count": 32,
   "id": "c83f6349-eb53-4874-9447-29d21731c1e4",
   "metadata": {},
   "outputs": [
    {
     "data": {
      "text/plain": [
       "0     350\n",
       "1     316\n",
       "2     350\n",
       "3     448\n",
       "4       0\n",
       "5     656\n",
       "6     405\n",
       "7     580\n",
       "8       0\n",
       "9       0\n",
       "10      0\n",
       "11    660\n",
       "Name: BootSpace, dtype: object"
      ]
     },
     "execution_count": 32,
     "metadata": {},
     "output_type": "execute_result"
    }
   ],
   "source": [
    "df_india_ev['BootSpace']"
   ]
  },
  {
   "cell_type": "code",
   "execution_count": 34,
   "id": "c4c1713e-1893-4137-8111-05aaf5fbebf2",
   "metadata": {},
   "outputs": [
    {
     "data": {
      "text/plain": [
       "array(['5 Seater ', '4 Seater '], dtype=object)"
      ]
     },
     "execution_count": 34,
     "metadata": {},
     "output_type": "execute_result"
    }
   ],
   "source": [
    "df_india_ev['Capacity'].unique()"
   ]
  },
  {
   "cell_type": "code",
   "execution_count": 38,
   "id": "860ed46e-96a6-4e4a-9aec-bb891de2f621",
   "metadata": {},
   "outputs": [
    {
     "name": "stderr",
     "output_type": "stream",
     "text": [
      "C:\\Users\\pankr\\AppData\\Local\\Temp\\ipykernel_21588\\1699599501.py:1: FutureWarning: A value is trying to be set on a copy of a DataFrame or Series through chained assignment using an inplace method.\n",
      "The behavior will change in pandas 3.0. This inplace method will never work because the intermediate object on which we are setting values always behaves as a copy.\n",
      "\n",
      "For example, when doing 'df[col].method(value, inplace=True)', try using 'df.method({col: value}, inplace=True)' or df[col] = df[col].method(value) instead, to perform the operation inplace on the original object.\n",
      "\n",
      "\n",
      "  df_india_ev['Capacity'].replace({'5 Seater':5,'4 Seater':4},inplace=True)\n"
     ]
    }
   ],
   "source": [
    "df_india_ev['Capacity'].replace({'5 Seater':5,'4 Seater':4},inplace=True)"
   ]
  },
  {
   "cell_type": "code",
   "execution_count": 39,
   "id": "a141ad66-112d-4c27-9f3a-49d83d83511d",
   "metadata": {},
   "outputs": [
    {
     "data": {
      "text/plain": [
       "array(['5 Seater ', '4 Seater '], dtype=object)"
      ]
     },
     "execution_count": 39,
     "metadata": {},
     "output_type": "execute_result"
    }
   ],
   "source": [
    "df_india_ev['Capacity'].unique()"
   ]
  },
  {
   "cell_type": "code",
   "execution_count": 44,
   "id": "8d7cfa63-4f88-4b2d-82c8-852964bd0012",
   "metadata": {},
   "outputs": [
    {
     "name": "stderr",
     "output_type": "stream",
     "text": [
      "C:\\Users\\pankr\\AppData\\Local\\Temp\\ipykernel_21588\\2394512246.py:1: FutureWarning: Downcasting behavior in `replace` is deprecated and will be removed in a future version. To retain the old behavior, explicitly call `result.infer_objects(copy=False)`. To opt-in to the future behavior, set `pd.set_option('future.no_silent_downcasting', True)`\n",
      "  df_india_ev['Capacity'] = df_india_ev['Capacity'].replace({'5 Seater ':5,'4 Seater ':4})\n"
     ]
    }
   ],
   "source": [
    "df_india_ev['Capacity'] = df_india_ev['Capacity'].replace({'5 Seater ':5,'4 Seater ':4})"
   ]
  },
  {
   "cell_type": "code",
   "execution_count": 45,
   "id": "3d6b467c-cae8-49ce-9f48-b32b76c647fd",
   "metadata": {},
   "outputs": [
    {
     "data": {
      "text/plain": [
       "array([5, 4], dtype=int64)"
      ]
     },
     "execution_count": 45,
     "metadata": {},
     "output_type": "execute_result"
    }
   ],
   "source": [
    "df_india_ev['Capacity'].unique()"
   ]
  },
  {
   "cell_type": "code",
   "execution_count": 46,
   "id": "5a772661-d2e3-4425-b1c8-5ff385783c92",
   "metadata": {},
   "outputs": [
    {
     "data": {
      "text/html": [
       "<div>\n",
       "<style scoped>\n",
       "    .dataframe tbody tr th:only-of-type {\n",
       "        vertical-align: middle;\n",
       "    }\n",
       "\n",
       "    .dataframe tbody tr th {\n",
       "        vertical-align: top;\n",
       "    }\n",
       "\n",
       "    .dataframe thead th {\n",
       "        text-align: right;\n",
       "    }\n",
       "</style>\n",
       "<table border=\"1\" class=\"dataframe\">\n",
       "  <thead>\n",
       "    <tr style=\"text-align: right;\">\n",
       "      <th></th>\n",
       "      <th>Car</th>\n",
       "      <th>Style</th>\n",
       "      <th>Range</th>\n",
       "      <th>Transmission</th>\n",
       "      <th>VehicleType</th>\n",
       "      <th>PriceRange</th>\n",
       "      <th>Capacity</th>\n",
       "      <th>BootSpace</th>\n",
       "      <th>BaseModel</th>\n",
       "      <th>TopModel</th>\n",
       "    </tr>\n",
       "  </thead>\n",
       "  <tbody>\n",
       "    <tr>\n",
       "      <th>0</th>\n",
       "      <td>Tata Nexon EV</td>\n",
       "      <td>Compact SUV</td>\n",
       "      <td>312</td>\n",
       "      <td>Automatic</td>\n",
       "      <td>Electric</td>\n",
       "      <td>₹ 13.99 - 17.4 L</td>\n",
       "      <td>5</td>\n",
       "      <td>350</td>\n",
       "      <td>XM</td>\n",
       "      <td>Dark XZ Plus LUX</td>\n",
       "    </tr>\n",
       "    <tr>\n",
       "      <th>1</th>\n",
       "      <td>Tata Tigor EV</td>\n",
       "      <td>Subcompact Sedan</td>\n",
       "      <td>306</td>\n",
       "      <td>Automatic</td>\n",
       "      <td>Electric</td>\n",
       "      <td>₹ 12.49 - 13.64 L</td>\n",
       "      <td>5</td>\n",
       "      <td>316</td>\n",
       "      <td>XE</td>\n",
       "      <td>XZ Plus Dual Tone</td>\n",
       "    </tr>\n",
       "  </tbody>\n",
       "</table>\n",
       "</div>"
      ],
      "text/plain": [
       "             Car             Style Range Transmission VehicleType  \\\n",
       "0  Tata Nexon EV       Compact SUV   312    Automatic    Electric   \n",
       "1  Tata Tigor EV  Subcompact Sedan   306    Automatic    Electric   \n",
       "\n",
       "          PriceRange  Capacity BootSpace BaseModel            TopModel  \n",
       "0   ₹ 13.99 - 17.4 L         5       350       XM    Dark XZ Plus LUX   \n",
       "1  ₹ 12.49 - 13.64 L         5       316       XE   XZ Plus Dual Tone   "
      ]
     },
     "execution_count": 46,
     "metadata": {},
     "output_type": "execute_result"
    }
   ],
   "source": [
    "df_india_ev.head(2)"
   ]
  },
  {
   "cell_type": "markdown",
   "id": "9628598c-5962-4496-9c4e-e9283b054b47",
   "metadata": {},
   "source": [
    "##### Open Government Released Dataset"
   ]
  },
  {
   "cell_type": "code",
   "execution_count": 66,
   "id": "98f00ee2-d405-4b4a-a2f7-215d81888336",
   "metadata": {},
   "outputs": [
    {
     "data": {
      "text/html": [
       "<div>\n",
       "<style scoped>\n",
       "    .dataframe tbody tr th:only-of-type {\n",
       "        vertical-align: middle;\n",
       "    }\n",
       "\n",
       "    .dataframe tbody tr th {\n",
       "        vertical-align: top;\n",
       "    }\n",
       "\n",
       "    .dataframe thead th {\n",
       "        text-align: right;\n",
       "    }\n",
       "</style>\n",
       "<table border=\"1\" class=\"dataframe\">\n",
       "  <thead>\n",
       "    <tr style=\"text-align: right;\">\n",
       "      <th></th>\n",
       "      <th>Sl.No.</th>\n",
       "      <th>State/UT</th>\n",
       "      <th>Electric</th>\n",
       "      <th>Non-electric</th>\n",
       "    </tr>\n",
       "  </thead>\n",
       "  <tbody>\n",
       "    <tr>\n",
       "      <th>0</th>\n",
       "      <td>1</td>\n",
       "      <td>Andaman and Nicobar Islands</td>\n",
       "      <td>190</td>\n",
       "      <td>161258</td>\n",
       "    </tr>\n",
       "    <tr>\n",
       "      <th>1</th>\n",
       "      <td>2</td>\n",
       "      <td>Andhra Pradesh</td>\n",
       "      <td>67905</td>\n",
       "      <td>16553509</td>\n",
       "    </tr>\n",
       "    <tr>\n",
       "      <th>2</th>\n",
       "      <td>3</td>\n",
       "      <td>Arunachal Pradesh</td>\n",
       "      <td>28</td>\n",
       "      <td>303673</td>\n",
       "    </tr>\n",
       "    <tr>\n",
       "      <th>3</th>\n",
       "      <td>4</td>\n",
       "      <td>Assam</td>\n",
       "      <td>120423</td>\n",
       "      <td>5312457</td>\n",
       "    </tr>\n",
       "    <tr>\n",
       "      <th>4</th>\n",
       "      <td>5</td>\n",
       "      <td>Bihar</td>\n",
       "      <td>161060</td>\n",
       "      <td>11631081</td>\n",
       "    </tr>\n",
       "  </tbody>\n",
       "</table>\n",
       "</div>"
      ],
      "text/plain": [
       "  Sl.No.                     State/UT  Electric  Non-electric\n",
       "0      1  Andaman and Nicobar Islands       190        161258\n",
       "1      2               Andhra Pradesh     67905      16553509\n",
       "2      3            Arunachal Pradesh        28        303673\n",
       "3      4                        Assam    120423       5312457\n",
       "4      5                        Bihar    161060      11631081"
      ]
     },
     "execution_count": 66,
     "metadata": {},
     "output_type": "execute_result"
    }
   ],
   "source": [
    "df_open_data_india.head()"
   ]
  },
  {
   "cell_type": "code",
   "execution_count": 78,
   "id": "43705fd3-9889-4b8f-a0d9-0404c5ff039a",
   "metadata": {},
   "outputs": [],
   "source": [
    "df_open_data_india = df_open_data_india.iloc[0:-1]"
   ]
  },
  {
   "cell_type": "code",
   "execution_count": 80,
   "id": "628b3119-46e7-48fe-863b-b49add523d98",
   "metadata": {},
   "outputs": [
    {
     "name": "stdout",
     "output_type": "stream",
     "text": [
      "<class 'pandas.core.frame.DataFrame'>\n",
      "RangeIndex: 34 entries, 0 to 33\n",
      "Data columns (total 4 columns):\n",
      " #   Column        Non-Null Count  Dtype \n",
      "---  ------        --------------  ----- \n",
      " 0   Sl.No.        34 non-null     object\n",
      " 1   State/UT      34 non-null     object\n",
      " 2   Electric      34 non-null     int64 \n",
      " 3   Non-electric  34 non-null     int64 \n",
      "dtypes: int64(2), object(2)\n",
      "memory usage: 1.2+ KB\n"
     ]
    }
   ],
   "source": [
    "df_open_data_india.info()"
   ]
  },
  {
   "cell_type": "code",
   "execution_count": 81,
   "id": "a7038f43-ed2e-465e-90f2-bd5493b41ef5",
   "metadata": {},
   "outputs": [
    {
     "data": {
      "text/html": [
       "<div>\n",
       "<style scoped>\n",
       "    .dataframe tbody tr th:only-of-type {\n",
       "        vertical-align: middle;\n",
       "    }\n",
       "\n",
       "    .dataframe tbody tr th {\n",
       "        vertical-align: top;\n",
       "    }\n",
       "\n",
       "    .dataframe thead th {\n",
       "        text-align: right;\n",
       "    }\n",
       "</style>\n",
       "<table border=\"1\" class=\"dataframe\">\n",
       "  <thead>\n",
       "    <tr style=\"text-align: right;\">\n",
       "      <th></th>\n",
       "      <th>Electric</th>\n",
       "      <th>Non-electric</th>\n",
       "    </tr>\n",
       "  </thead>\n",
       "  <tbody>\n",
       "    <tr>\n",
       "      <th>count</th>\n",
       "      <td>34.000000</td>\n",
       "      <td>3.400000e+01</td>\n",
       "    </tr>\n",
       "    <tr>\n",
       "      <th>mean</th>\n",
       "      <td>83251.911765</td>\n",
       "      <td>1.016285e+07</td>\n",
       "    </tr>\n",
       "    <tr>\n",
       "      <th>std</th>\n",
       "      <td>119600.375679</td>\n",
       "      <td>1.161133e+07</td>\n",
       "    </tr>\n",
       "    <tr>\n",
       "      <th>min</th>\n",
       "      <td>20.000000</td>\n",
       "      <td>4.443000e+04</td>\n",
       "    </tr>\n",
       "    <tr>\n",
       "      <th>25%</th>\n",
       "      <td>1504.750000</td>\n",
       "      <td>5.931312e+05</td>\n",
       "    </tr>\n",
       "    <tr>\n",
       "      <th>50%</th>\n",
       "      <td>43125.000000</td>\n",
       "      <td>6.184873e+06</td>\n",
       "    </tr>\n",
       "    <tr>\n",
       "      <th>75%</th>\n",
       "      <td>114900.250000</td>\n",
       "      <td>1.622194e+07</td>\n",
       "    </tr>\n",
       "    <tr>\n",
       "      <th>max</th>\n",
       "      <td>574967.000000</td>\n",
       "      <td>4.385255e+07</td>\n",
       "    </tr>\n",
       "  </tbody>\n",
       "</table>\n",
       "</div>"
      ],
      "text/plain": [
       "            Electric  Non-electric\n",
       "count      34.000000  3.400000e+01\n",
       "mean    83251.911765  1.016285e+07\n",
       "std    119600.375679  1.161133e+07\n",
       "min        20.000000  4.443000e+04\n",
       "25%      1504.750000  5.931312e+05\n",
       "50%     43125.000000  6.184873e+06\n",
       "75%    114900.250000  1.622194e+07\n",
       "max    574967.000000  4.385255e+07"
      ]
     },
     "execution_count": 81,
     "metadata": {},
     "output_type": "execute_result"
    }
   ],
   "source": [
    "df_open_data_india.describe()"
   ]
  },
  {
   "cell_type": "markdown",
   "id": "c7a42aa6-c8e1-4b0f-9791-a5ecb746f50e",
   "metadata": {},
   "source": [
    "#### Section Summary\n",
    "Till now we have completed the *data-cleaning* and *data-preprocessing* tasks. Now, we will deep dive into the data visualization part in the next section."
   ]
  },
  {
   "cell_type": "code",
   "execution_count": null,
   "id": "b01abb44-d8d4-4bb7-89e3-408c66466e6e",
   "metadata": {},
   "outputs": [],
   "source": []
  },
  {
   "cell_type": "code",
   "execution_count": null,
   "id": "2c7ddc5b-6620-4b57-852d-01683a3c2b35",
   "metadata": {},
   "outputs": [],
   "source": []
  },
  {
   "cell_type": "code",
   "execution_count": null,
   "id": "6928271d-f61c-4997-bf10-79b59ae0566b",
   "metadata": {},
   "outputs": [],
   "source": []
  }
 ],
 "metadata": {
  "kernelspec": {
   "display_name": "Python 3 (ipykernel)",
   "language": "python",
   "name": "python3"
  },
  "language_info": {
   "codemirror_mode": {
    "name": "ipython",
    "version": 3
   },
   "file_extension": ".py",
   "mimetype": "text/x-python",
   "name": "python",
   "nbconvert_exporter": "python",
   "pygments_lexer": "ipython3",
   "version": "3.11.8"
  }
 },
 "nbformat": 4,
 "nbformat_minor": 5
}
